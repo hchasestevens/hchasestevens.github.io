{
 "cells": [
  {
   "cell_type": "markdown",
   "metadata": {},
   "source": [
    "# The decorators they won't tell you about"
   ]
  },
  {
   "cell_type": "markdown",
   "metadata": {
    "collapsed": true
   },
   "source": [
    "You know, decorators are one of the features that makes Python great, but there are a lot of people who either haven't been exposed to them or - worse - have been exposed to them (either in the wild or as part of a tutorial) but never \"gotten\" them. \n",
    "\n",
    "If you fit in the latter category, you'll almost necessarily have had spouted reassuringly at you: \"Decorators are simple, they're just functions that take functions and return other functions!\" You'll have seen a blog post that taught you how to make decorators that add one to a function's output, or print when it's called, or implement caching around it - as if these were insurmountable problems that only a decorator could solve. You'll have extensively used flask's `@app.route`, but have tried very carefully not to wonder too hard about it, for fear of its becoming disobedient and surly.\n",
    "\n",
    "In short, you'll know _of_ decorators, but not know what they're _good_ for, or why they are the way they are. Practice makes perfect, but abstention breeds apathy; like someone who has been taught the violin exclusively as an instrument of classical music, and who couldn't care less about classical music, you are unlikely to become a virtuoso without discovering the fiddle.\n",
    "\n",
    "This brief guide aims to dispell the myths you've heard about decorators and instead show you the _good_ stuff, the decorators they _won't_ tell you about, the decorators that do things you didn't know decorators could _do_."
   ]
  },
  {
   "cell_type": "markdown",
   "metadata": {},
   "source": [
    "## Your mandatory refresher\n",
    "State law requires that, before we go any further, I remind you of the basic principles of decorators."
   ]
  },
  {
   "cell_type": "markdown",
   "metadata": {},
   "source": [
    "### Functions in Python\n",
    "The first thing you must understand is that all functions in Python are [first-class citizens](https://en.wikipedia.org/wiki/First-class_citizen), which is to say, are objects just like any other object you might encounter.\n",
    "\n",
    "They have attributes."
   ]
  },
  {
   "cell_type": "code",
   "execution_count": 1,
   "metadata": {
    "collapsed": false
   },
   "outputs": [
    {
     "name": "stdout",
     "output_type": "stream",
     "text": [
      "['__call__', '__class__', '__closure__', '__code__', '__defaults__', '__delattr__', '__dict__', '__doc__', '__format__', '__get__', '__getattribute__', '__globals__', '__hash__', '__init__', '__module__', '__name__', '__new__', '__reduce__', '__reduce_ex__', '__repr__', '__setattr__', '__sizeof__', '__str__', '__subclasshook__', 'func_closure', 'func_code', 'func_defaults', 'func_dict', 'func_doc', 'func_globals', 'func_name']\n"
     ]
    }
   ],
   "source": [
    "def f():\n",
    "    \"\"\"Print something to standard out.\"\"\"\n",
    "    print('something')\n",
    "\n",
    "print(dir(f))"
   ]
  },
  {
   "cell_type": "markdown",
   "metadata": {},
   "source": [
    "You can assign them to variables."
   ]
  },
  {
   "cell_type": "code",
   "execution_count": 2,
   "metadata": {
    "collapsed": false
   },
   "outputs": [
    {
     "name": "stdout",
     "output_type": "stream",
     "text": [
      "something\n"
     ]
    }
   ],
   "source": [
    "g = f\n",
    "g()"
   ]
  },
  {
   "cell_type": "markdown",
   "metadata": {},
   "source": [
    "You can use them as arguments to other functions."
   ]
  },
  {
   "cell_type": "code",
   "execution_count": 3,
   "metadata": {
    "collapsed": false
   },
   "outputs": [
    {
     "data": {
      "text/plain": [
       "'f'"
      ]
     },
     "execution_count": 3,
     "metadata": {},
     "output_type": "execute_result"
    }
   ],
   "source": [
    "def func_name(function):\n",
    "    return function.__name__\n",
    "\n",
    "func_name(f)"
   ]
  },
  {
   "cell_type": "markdown",
   "metadata": {},
   "source": [
    "You can throw them into data structures."
   ]
  },
  {
   "cell_type": "code",
   "execution_count": 4,
   "metadata": {
    "collapsed": false
   },
   "outputs": [
    {
     "name": "stdout",
     "output_type": "stream",
     "text": [
      "something\n",
      "something\n"
     ]
    }
   ],
   "source": [
    "function_collection = [f, g]\n",
    "for function in function_collection:\n",
    "    function()"
   ]
  },
  {
   "cell_type": "markdown",
   "metadata": {},
   "source": [
    "The possibilities are endless, inasmuch as they are endless with any other object."
   ]
  },
  {
   "cell_type": "markdown",
   "metadata": {},
   "source": [
    "### Decorators\n",
    "Decorators are often described as \"functions which take functions and return functions\", a description which is notable in that, technically speaking, not a single word of it is true. What _is_ true is the following:\n",
    "- Decorators are applied once, at function definition time.\n",
    "- Annotating a function definition `x` with a decorator `@d` is equivalent to defining `x`, then, immediately afterward, having `x = d(x)`.\n",
    "- Decorating a function with `@d` and `@e`, in that order, is equivalent to performing `x = d(e(x))` after the function's definition.\n",
    "    \n",
    "The second of these principles is demonstrated here:"
   ]
  },
  {
   "cell_type": "code",
   "execution_count": 5,
   "metadata": {
    "collapsed": false
   },
   "outputs": [
    {
     "name": "stdout",
     "output_type": "stream",
     "text": [
      "one was called\n",
      "one_ was called\n",
      "one was called\n",
      "one_ was called\n"
     ]
    },
    {
     "data": {
      "text/plain": [
       "[1, 1, 1, 1]"
      ]
     },
     "execution_count": 5,
     "metadata": {},
     "output_type": "execute_result"
    }
   ],
   "source": [
    "def print_when_called(function):\n",
    "    def new_function(*args, **kwargs):\n",
    "        print(\"{} was called\".format(function.__name__))\n",
    "        return function(*args, **kwargs)\n",
    "    return new_function\n",
    "\n",
    "def one():\n",
    "    return 1\n",
    "one = print_when_called(one)\n",
    "\n",
    "@print_when_called\n",
    "def one_():\n",
    "    return 1\n",
    "\n",
    "[one(), one_(), one(), one_()]"
   ]
  },
  {
   "cell_type": "markdown",
   "metadata": {},
   "source": [
    "One immediate point of clarification: although I just said decorators are applied at function definition time, you might notice that messages in the example above are being printed at function _call_ time. This is because `print_when_called` returns `new_function`, which itself prints before calling `one` or `one_`. As I said earler, decorators themselves are applied at function definition time:"
   ]
  },
  {
   "cell_type": "code",
   "execution_count": 6,
   "metadata": {
    "collapsed": false
   },
   "outputs": [
    {
     "name": "stdout",
     "output_type": "stream",
     "text": [
      "print_when_applied was applied to never_called\n"
     ]
    }
   ],
   "source": [
    "def print_when_applied(function):\n",
    "    print(\"print_when_applied was applied to {}\".format(function.__name__))\n",
    "    return function\n",
    "\n",
    "@print_when_applied\n",
    "def never_called():\n",
    "    import os\n",
    "    # don't play with doomsday command: 'rm -rf /'",
    "    os.system('doomsday command')"
   ]
  },
  {
   "cell_type": "markdown",
   "metadata": {},
   "source": [
    "`never_called` is, aptly, never called, but the message from the `print_when_applied` decorator is printed regardless.\n",
    "\n",
    "Finally, a demonstration of decorator ordering:"
   ]
  },
  {
   "cell_type": "code",
   "execution_count": 7,
   "metadata": {
    "collapsed": false
   },
   "outputs": [
    {
     "name": "stdout",
     "output_type": "stream",
     "text": [
      "print_when_applied was applied to new_function\n",
      "this_name_will_be_printed_when_called_but_not_at_definition_time was called\n"
     ]
    }
   ],
   "source": [
    "@print_when_applied\n",
    "@print_when_called\n",
    "def this_name_will_be_printed_when_called_but_not_at_definition_time():\n",
    "    pass\n",
    "\n",
    "this_name_will_be_printed_when_called_but_not_at_definition_time()"
   ]
  },
  {
   "cell_type": "markdown",
   "metadata": {},
   "source": [
    "`print_when_called` returns a function named `new_function`, and it is _this_ function that `print_when_applied` is called upon."
   ]
  },
  {
   "cell_type": "markdown",
   "metadata": {},
   "source": [
    "## Decorator myths\n",
    "To really understand the potential of decorators, it is not sufficient to learn what you do not yet know - you must also unlearn what you know already."
   ]
  },
  {
   "cell_type": "markdown",
   "metadata": {},
   "source": [
    "### Myth the first - decorators return functions\n",
    "Earlier, I claimed that applying a decorator `d` to a function `x` was the same as writing the definition of `x`, then `x = d(x)`. \n",
    "\n",
    "But you might have noticed - who says that `d` has to return a function? In fact, `func_name` (which I defined earlier) returns a string, but works just fine as a decorator."
   ]
  },
  {
   "cell_type": "code",
   "execution_count": 8,
   "metadata": {
    "collapsed": false
   },
   "outputs": [
    {
     "data": {
      "text/plain": [
       "'a_named_function'"
      ]
     },
     "execution_count": 8,
     "metadata": {},
     "output_type": "execute_result"
    }
   ],
   "source": [
    "@func_name\n",
    "def a_named_function():\n",
    "    return\n",
    "\n",
    "a_named_function"
   ]
  },
  {
   "cell_type": "markdown",
   "metadata": {},
   "source": [
    "What is important about this? It means that functions can be more than callable objects, but instead can be little isolated scopes for doing... whatever you'd like. For instance, if you want to process a list, you could do:"
   ]
  },
  {
   "cell_type": "code",
   "execution_count": 9,
   "metadata": {
    "collapsed": false
   },
   "outputs": [
    {
     "data": {
      "text/plain": [
       "([2, 3], \"don't touch me please\")"
      ]
     },
     "execution_count": 9,
     "metadata": {},
     "output_type": "execute_result"
    }
   ],
   "source": [
    "def process_list(list_):\n",
    "    def decorator(function):\n",
    "        return function(list_)\n",
    "    return decorator\n",
    "\n",
    "unprocessed_list = [0, 1, 2, 3]\n",
    "special_var = \"don't touch me please\"\n",
    "\n",
    "@process_list(unprocessed_list)\n",
    "def processed_list(items):\n",
    "    special_var = 1\n",
    "    return [item for item in items if item > special_var]\n",
    "\n",
    "(processed_list, special_var)"
   ]
  },
  {
   "cell_type": "markdown",
   "metadata": {},
   "source": [
    "`processed_list` is a list, and `special_var` has remained unchanged thanks to Python's function scoping rules. This example is a bit silly - there are much more sensible ways to do the same thing - but the principle is very useful. A more conventional exploitation of it might look like:"
   ]
  },
  {
   "cell_type": "code",
   "execution_count": 10,
   "metadata": {
    "collapsed": false
   },
   "outputs": [
    {
     "data": {
      "text/plain": [
       "3"
      ]
     },
     "execution_count": 10,
     "metadata": {},
     "output_type": "execute_result"
    }
   ],
   "source": [
    "class FunctionHolder(object):\n",
    "    def __init__(self, function):\n",
    "        self.func = function\n",
    "        self.called_count = 0\n",
    "    def __call__(self, *args, **kwargs):\n",
    "        try:\n",
    "            return self.func(*args, **kwargs)\n",
    "        finally:\n",
    "            self.called_count += 1\n",
    "            \n",
    "def held(function):\n",
    "    return FunctionHolder(function)\n",
    "\n",
    "@held\n",
    "def i_am_counted():\n",
    "    pass\n",
    "\n",
    "i_am_counted()\n",
    "i_am_counted()\n",
    "i_am_counted()\n",
    "i_am_counted.called_count"
   ]
  },
  {
   "cell_type": "markdown",
   "metadata": {},
   "source": [
    "### Myth the second - decorators are functions\n",
    "Nothing in `x = d(x)` necessitates that `d` is a function - `d` just has to be callable! The above example can just as well be written:"
   ]
  },
  {
   "cell_type": "code",
   "execution_count": 11,
   "metadata": {
    "collapsed": false
   },
   "outputs": [
    {
     "name": "stdout",
     "output_type": "stream",
     "text": [
      "a\n",
      "b\n"
     ]
    },
    {
     "data": {
      "text/plain": [
       "2"
      ]
     },
     "execution_count": 11,
     "metadata": {},
     "output_type": "execute_result"
    }
   ],
   "source": [
    "@FunctionHolder\n",
    "def i_am_also_counted(val):\n",
    "    print(val)\n",
    "    \n",
    "i_am_also_counted('a')\n",
    "i_am_also_counted('b')\n",
    "i_am_also_counted.called_count"
   ]
  },
  {
   "cell_type": "markdown",
   "metadata": {},
   "source": [
    "In fact, `i_am_also_counted`, which is a `FunctionHolder` instance, not a function, can _also_ be used as a decorator:"
   ]
  },
  {
   "cell_type": "code",
   "execution_count": 12,
   "metadata": {
    "collapsed": false
   },
   "outputs": [
    {
     "name": "stdout",
     "output_type": "stream",
     "text": [
      "<function about_to_be_printed at 0x7f73f678aaa0>\n"
     ]
    },
    {
     "data": {
      "text/plain": [
       "3"
      ]
     },
     "execution_count": 12,
     "metadata": {},
     "output_type": "execute_result"
    }
   ],
   "source": [
    "@i_am_also_counted\n",
    "def about_to_be_printed():\n",
    "    pass\n",
    "\n",
    "i_am_also_counted.called_count"
   ]
  },
  {
   "cell_type": "markdown",
   "metadata": {},
   "source": [
    "### Myth the third - decorators take functions\n",
    "Granted - Python's syntax means that the `@decorator` notation can't be used just anywhere, but that doesn't mean they exclusively take functions as arguments. For instance, here's `len`, which operates on sequences (not functions), being used as a decorator."
   ]
  },
  {
   "cell_type": "code",
   "execution_count": 13,
   "metadata": {
    "collapsed": false
   },
   "outputs": [
    {
     "data": {
      "text/plain": [
       "19"
      ]
     },
     "execution_count": 13,
     "metadata": {},
     "output_type": "execute_result"
    }
   ],
   "source": [
    "@len\n",
    "@func_name\n",
    "def nineteen_characters():\n",
    "    \"\"\"are in this function's name\"\"\"\n",
    "    pass\n",
    "\n",
    "nineteen_characters"
   ]
  },
  {
   "cell_type": "markdown",
   "metadata": {},
   "source": [
    "You can, in fact, apply essentially any function you'd like as a decorator:"
   ]
  },
  {
   "cell_type": "code",
   "execution_count": 14,
   "metadata": {
    "collapsed": false
   },
   "outputs": [
    {
     "data": {
      "text/plain": [
       "['B', 'A', 'D']"
      ]
     },
     "execution_count": 14,
     "metadata": {},
     "output_type": "execute_result"
    }
   ],
   "source": [
    "mappings = {'correct': 'good', 'incorrect': 'bad'}\n",
    "\n",
    "@list\n",
    "@str.upper\n",
    "@mappings.get\n",
    "@func_name\n",
    "def incorrect():\n",
    "    pass\n",
    "\n",
    "incorrect"
   ]
  },
  {
   "cell_type": "markdown",
   "metadata": {
    "collapsed": true
   },
   "source": [
    "Decorators can also be applied to class definitions:"
   ]
  },
  {
   "cell_type": "code",
   "execution_count": 15,
   "metadata": {
    "collapsed": false
   },
   "outputs": [
    {
     "data": {
      "text/plain": [
       "True"
      ]
     },
     "execution_count": 15,
     "metadata": {},
     "output_type": "execute_result"
    }
   ],
   "source": [
    "import re\n",
    "\n",
    "def constructor(type_):\n",
    "    def decorator(method):\n",
    "        method.constructs_type = type_\n",
    "        return method\n",
    "    return decorator\n",
    "\n",
    "def register_constructors(cls):\n",
    "    for item_name in cls.__dict__:\n",
    "        item = getattr(cls, item_name)\n",
    "        if hasattr(item, 'constructs_type'):\n",
    "            cls.constructors[item.constructs_type] = item\n",
    "    return cls\n",
    "            \n",
    "@register_constructors\n",
    "class IntStore(object):\n",
    "    constructors = {}\n",
    "    \n",
    "    def __init__(self, value):\n",
    "        self.value = value\n",
    "        \n",
    "    @classmethod\n",
    "    @constructor(int)\n",
    "    def from_int(cls, x):\n",
    "        return cls(x)\n",
    "    \n",
    "    @classmethod\n",
    "    @constructor(float)\n",
    "    def from_float(cls, x):\n",
    "        return cls(int(x))\n",
    "    \n",
    "    @classmethod\n",
    "    @constructor(str)\n",
    "    def from_string(cls, x):\n",
    "        match = re.search(r'\\d+', x)\n",
    "        if match is None:\n",
    "            return cls(0)\n",
    "        return cls(int(match.group()))\n",
    "    \n",
    "    @classmethod\n",
    "    def from_auto(cls, x):\n",
    "        constructor = cls.constructors[type(x)]\n",
    "        return constructor(x)\n",
    "    \n",
    "IntStore.from_auto('at the 11th hour').value == IntStore.from_auto(11.1).value"
   ]
  },
  {
   "cell_type": "markdown",
   "metadata": {},
   "source": [
    "## Decorator toolbox\n",
    "So now that we've established that decorators aren't \"functions that take functions and return functions\", but instead \"(callable) objects that take objects and return objects\", the question is not what you _can_ do with them, but what they're _good_ for. \n",
    "\n",
    "One answer is that, yes, they're still good for taking functions and wrapping them in other functions and changing their behavior and yadda yadda yadda, but there are a million other decorator tutorials out there that will gladly show you how to do that - doesn't mean it's not true.\n",
    "\n",
    "But I'm here to show you the uses they won't tell you about. Here are the things I've found decorators useful for that I don't see other people talking about very often. Some of these are distilled versions of things I've already demonstrated (to some extent) above. _All_ are things that can also be done _without_ using decorators - the point being that decorators make them _easy_, meaning that you'll be much more _likely_ to do them, which is [important in creating maintainable systems](http://www.haskellforall.com/2016/04/worst-practices-should-be-hard.html). "
   ]
  },
  {
   "cell_type": "markdown",
   "metadata": {},
   "source": [
    "### Decorators for annotation\n",
    "Decorators can add annotations to functions when they're declared. For instance, suppose we want to label two types of functions, \"red\" functions and \"blue\" functions: "
   ]
  },
  {
   "cell_type": "code",
   "execution_count": 16,
   "metadata": {
    "collapsed": true
   },
   "outputs": [],
   "source": [
    "def red(fn):\n",
    "    fn.color = 'red'\n",
    "    return fn\n",
    "\n",
    "def blue(fn):\n",
    "    fn.color = 'blue'\n",
    "    return fn\n",
    "\n",
    "@red\n",
    "def combine(a, b):\n",
    "    result = []\n",
    "    result.extend(a)\n",
    "    result.extend(b)\n",
    "    return result\n",
    "\n",
    "@blue\n",
    "def unsafe_combine(a, b):\n",
    "    a.extend(b)\n",
    "    return a\n",
    "\n",
    "@blue\n",
    "def combine_and_save(a, b):\n",
    "    result = a + b\n",
    "    with open('combined') as f:\n",
    "        f.write(repr(result))\n",
    "    return combined"
   ]
  },
  {
   "cell_type": "markdown",
   "metadata": {},
   "source": [
    "Now we have more information at run-time about each of these functions, which lets us make decisions we couldn't've before:"
   ]
  },
  {
   "cell_type": "code",
   "execution_count": 17,
   "metadata": {
    "collapsed": false
   },
   "outputs": [
    {
     "name": "stdout",
     "output_type": "stream",
     "text": [
      "Sorry, only red functions allowed here!\n",
      "[1, 2, 3, 4]\n"
     ]
    },
    {
     "data": {
      "text/plain": [
       "[1, 2]"
      ]
     },
     "execution_count": 17,
     "metadata": {},
     "output_type": "execute_result"
    }
   ],
   "source": [
    "def combine_using(fn, a, b):\n",
    "    if hasattr(fn, 'color') and fn.color == 'blue':\n",
    "        print(\"Sorry, only red functions allowed here!\")\n",
    "        return combine(a, b)  # fall back to default implementation\n",
    "    return fn(a, b)\n",
    "\n",
    "a = [1, 2]\n",
    "b = [3, 4]\n",
    "print(combine_using(unsafe_combine, a, b))\n",
    "a"
   ]
  },
  {
   "cell_type": "markdown",
   "metadata": {},
   "source": [
    "And while we could have equally well have done:"
   ]
  },
  {
   "cell_type": "code",
   "execution_count": 18,
   "metadata": {
    "collapsed": true
   },
   "outputs": [],
   "source": [
    "def combine(a, b):\n",
    "    return a + b\n",
    "combine.color = 'red'"
   ]
  },
  {
   "cell_type": "markdown",
   "metadata": {},
   "source": [
    "the `red` and `blue` decorators offer the benefits of being:\n",
    "- highly and immediately visible\n",
    "- inherently closely attached to/above the function definition\n",
    "- consistent and foolproof (no room for typos).\n",
    "\n",
    "If you've ever used [`pytest`](https://docs.pytest.org/en/latest/), this is what `@pytest.mark.parametrize`, `@pytest.mark.skip`, `@pytest.mark.[etc]` are doing - simply setting attributes on your test function, (some of) which are later used by the framework to dictate how the test is to be run."
   ]
  },
  {
   "cell_type": "markdown",
   "metadata": {},
   "source": [
    "### Decorators for registration\n",
    "Sometimes, we want to have a centralized means of discovering a number of different functions. Decorators are a convenient means of doing this."
   ]
  },
  {
   "cell_type": "code",
   "execution_count": 19,
   "metadata": {
    "collapsed": true
   },
   "outputs": [],
   "source": [
    "FUNCTION_REGISTRY = []\n",
    "\n",
    "def registered(fn):\n",
    "    FUNCTION_REGISTRY.append(fn)\n",
    "    return fn\n",
    "\n",
    "@registered\n",
    "def step_1():\n",
    "    print(\"Hello\")\n",
    "    \n",
    "@registered\n",
    "def step_2():\n",
    "    print(\"world!\")"
   ]
  },
  {
   "cell_type": "markdown",
   "metadata": {},
   "source": [
    "This gives us the capability to, for instance, iterate and execute all registered functions: "
   ]
  },
  {
   "cell_type": "code",
   "execution_count": 20,
   "metadata": {
    "collapsed": false
   },
   "outputs": [
    {
     "name": "stdout",
     "output_type": "stream",
     "text": [
      "Hello\n",
      "world!\n"
     ]
    }
   ],
   "source": [
    "def run_all():\n",
    "    for function in FUNCTION_REGISTRY:\n",
    "        function()\n",
    "        \n",
    "run_all()"
   ]
  },
  {
   "cell_type": "markdown",
   "metadata": {},
   "source": [
    "Again, while we could have accomplished the same thing by doing:"
   ]
  },
  {
   "cell_type": "code",
   "execution_count": 21,
   "metadata": {
    "collapsed": true
   },
   "outputs": [],
   "source": [
    "def step_1():\n",
    "    print(\"Hello\")\n",
    "    \n",
    "def step_2():\n",
    "    print(\"world!\")\n",
    "    \n",
    "FUNCTION_REGISTRY = [step_1, step_2]"
   ]
  },
  {
   "cell_type": "markdown",
   "metadata": {},
   "source": [
    "This means that, looking at the definition of `step_1` in isolation, we don't _know_ that it's been registered and, further, if we want to figure out how or why it's being run, we need to first identify that it's included in `FUNCTION_REGISTRY`, and then see that `FUNCTION_REGISTRY` is used in `run_all`. Additionally, if we add a `step_3` - possibly referencing our other step functions - we have to remember to add it to `FUNCTION_REGISTRY` when we're done. This is harder to forget when you see `step_1` and `step_2` very visibly decorated with `@registered`."
   ]
  },
  {
   "cell_type": "markdown",
   "metadata": {},
   "source": [
    "### Decorators for verification\n",
    "Discovering bugs at runtime is a big bummer. Even moreso when they pop up at the end of a very long-running script or program, or in code running in production. Because decorators are evaluated at function definition time, we can use them to give us \"compile\"-time assurances immediately when a module is imported.\n",
    "\n",
    "For instance, pretty frequently you'll want to use other languages or DSLs within Python: regular expressions, SQL, XPath, etc. The problem is that these are almost always represented as strings, not code, meaning that you can't benefit from syntax checking (although it [doesn't have to be this way](https://github.com/hchasestevens/xpyth)). Using a decorator, we can at least be alerted when the strings in our function have mismatched brackets - regardless of if or when the function is run:"
   ]
  },
  {
   "cell_type": "code",
   "execution_count": 22,
   "metadata": {
    "collapsed": false
   },
   "outputs": [
    {
     "name": "stdout",
     "output_type": "stream",
     "text": [
      "WARNING - get_root_div_paragraphs contains unbalanced brackets: //div[not(ancestor::div]/p\n"
     ]
    }
   ],
   "source": [
    "def brackets_balanced(s):\n",
    "    brackets = {\n",
    "        opening: closing\n",
    "        for opening, closing in \n",
    "        '() {} []'.split()\n",
    "    }\n",
    "    closing = set(brackets.values())\n",
    "    stack = []\n",
    "    for char in s:\n",
    "        if char not in closing:\n",
    "            if char in brackets:\n",
    "                stack.append(brackets[char])\n",
    "            continue\n",
    "        try:\n",
    "            expected = stack.pop()\n",
    "        except IndexError:\n",
    "            return False\n",
    "        if char != expected:\n",
    "            return False\n",
    "    return not stack\n",
    "\n",
    "def ensure_brackets_balanced(fn):\n",
    "    for const in fn.__code__.co_consts:\n",
    "        if not isinstance(const, str) or brackets_balanced(const):\n",
    "            continue\n",
    "        print(\n",
    "            \"WARNING - {.__name__} contains unbalanced brackets: {}\".format(\n",
    "                fn, const\n",
    "            )\n",
    "        )\n",
    "    return fn\n",
    "\n",
    "@ensure_brackets_balanced\n",
    "def get_root_div_paragraphs(xml_element):\n",
    "    return xml_element.xpath(\"//div[not(ancestor::div]/p\")"
   ]
  },
  {
   "cell_type": "markdown",
   "metadata": {},
   "source": [
    "For ensuring more advanced properties about the structure of the function's code itself, you'd want to choose a [tool](https://github.com/hchasestevens/asttools) that can provide you with a function's [abstract syntax tree](https://greentreesnakes.readthedocs.io/en/latest/) - or write your own linters using [something similar](https://github.com/hchasestevens/astpath)."
   ]
  },
  {
   "cell_type": "markdown",
   "metadata": {},
   "source": [
    "### Decorators for dispatch\n",
    "\n",
    "It's often very convenient to not explicitly, yourself, decide what functions should be run under what circumstances on which inputs, but to instead simply indicate the necessary circumstances for a function, and then let the computer decide what function to run by using that information. Decorators are a clean way of establishing these mappings between input conditions and handling strategy.\n",
    "\n",
    "For instance, consider the `IntStore` example above. The `constructor` decorator _annotates_ each method, the `register_constructors` class decorator _registers_ each of these on the class, and the `from_auto` method uses this information to _dispatch_ on the input type. \n",
    "\n",
    "This can be taken even further by creating a suite of strategies, each with their own preconditions, available for use by the program at run time. Giving your program _options_ like this can give you a _robustness_ and _flexibility_ that is very desirable for some applications - for instance, web scraping, in which the document you're parsing can vary (on a single site) depending on a huge number of factors.\n",
    "\n",
    "Anyway, here's an example:"
   ]
  },
  {
   "cell_type": "code",
   "execution_count": 23,
   "metadata": {
    "collapsed": false
   },
   "outputs": [
    {
     "data": {
      "text/plain": [
       "2017"
      ]
     },
     "execution_count": 23,
     "metadata": {},
     "output_type": "execute_result"
    }
   ],
   "source": [
    "STRATEGIES = []\n",
    "\n",
    "def precondition(cond):\n",
    "    def decorator(fn):\n",
    "        fn.precondition_met = lambda **kwargs: eval(cond, kwargs)\n",
    "        STRATEGIES.append(fn)\n",
    "        return fn\n",
    "    return decorator\n",
    "\n",
    "@precondition(\"s.startswith('The year is ')\")\n",
    "def parse_year_from_declaration(s):\n",
    "    return int(s[-4:])\n",
    "\n",
    "@precondition(\"any(substr.isdigit() for substr in s.split())\")\n",
    "def parse_year_from_word(s):\n",
    "    for substr in s.split():\n",
    "        try:\n",
    "            return int(substr)\n",
    "        except Exception:\n",
    "            continue\n",
    "            \n",
    "@precondition(\"'-' in s\")\n",
    "def parse_year_from_iso(s):\n",
    "    from dateutil import parser\n",
    "    return parser.parse(s).year\n",
    "\n",
    "def parse_year(s):\n",
    "    for strategy in STRATEGIES:\n",
    "        if strategy.precondition_met(s=s):\n",
    "            return strategy(s)\n",
    "        \n",
    "parse_year(\"It's 2017 bro.\")"
   ]
  },
  {
   "cell_type": "markdown",
   "metadata": {
    "collapsed": true
   },
   "source": [
    "### Decorators for metaprogramming\n",
    "Metaprogramming is a little outside the scope of this article, so I'll just briefly say that AST inspection and manipulation can be a very powerful tool. `pytest`, for instance, heavily uses metaprogramming to, for instance, [rewrite](http://pybites.blogspot.com/2011/07/behind-scenes-of-pytests-new-assertion.html) [assertions](https://docs.pytest.org/en/latest/assert.html) to provide more useful error messages. [`astoptimizer`](https://pypi.python.org/pypi/astoptimizer) uses it to speed up your programs. [`patterns`](https://github.com/Suor/patterns) uses it to provide convenient pattern matching. All these applications hinge, to some extent, on the useful fact that function bodies are only checked for syntactic correctness - ignoring, e.g., whether the variable names used can be resolved.  [Metaprogramming Beyond Decency](http://hackflow.com/blog/2015/03/29/metaprogramming-beyond-decency/) gives an excellent introductory overview of decorators for metaprogramming, for those interested."
   ]
  },
  {
   "cell_type": "markdown",
   "metadata": {},
   "source": [
    "## A final caveat\n",
    "As we all know, \"with great power comes great responsibility\". Decorators are powerful, and must always be used wisely and with good taste. As I've demonstrated, decorators can make code unpredictable - you never know what decorated function does, or, indeed, whether it's even still a function. Decorators are also for forever - you can't shuck a decorator from a function to get back to the original, un-decorated version; the decorator is an inherent part of the function's definition. Be careful and use decorators sensibly."
   ]
  },
  {
   "cell_type": "markdown",
   "metadata": {},
   "source": [
    "## About the author\n",
    "* Name: [H. Chase Stevens](http://www.chasestevens.com)\n",
    "* Github: [hchasestevens](https://github.com/hchasestevens)\n",
    "* Twitter: [@hchasestevens](https://twitter.com/hchasestevens)\n"
   ]
  }
 ],
 "metadata": {
  "anaconda-cloud": {},
  "kernelspec": {
   "display_name": "Python [conda root]",
   "language": "python",
   "name": "conda-root-py"
  },
  "language_info": {
   "codemirror_mode": {
    "name": "ipython",
    "version": 2
   },
   "file_extension": ".py",
   "mimetype": "text/x-python",
   "name": "python",
   "nbconvert_exporter": "python",
   "pygments_lexer": "ipython2",
   "version": "2.7.12"
  }
 },
 "nbformat": 4,
 "nbformat_minor": 2
}
